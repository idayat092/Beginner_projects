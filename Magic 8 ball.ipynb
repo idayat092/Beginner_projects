{
 "cells": [
  {
   "cell_type": "code",
   "execution_count": 1,
   "metadata": {},
   "outputs": [],
   "source": [
    "def Magic_8_ball():\n",
    "\n",
    "    import random\n",
    "\n",
    "    responses = ['As I see it, yes','Ask again later','Better not tell you now','Cannot predict now','Concentrate and ask again',\n",
    "              'Don’t count on it','It is certain','It is decidedly so','Most likely','My reply is no','My sources say no',\n",
    "              'Outlook not so good','Outlook good','Reply hazy, try again','Signs point to yes','Very doubtful','Without a doubt',\n",
    "              ' Yes','Yes - definitely','You may rely on it']\n",
    "\n",
    "    Question = input(\"Ask your question: \")\n",
    "\n",
    "    response = random.choice(responses)\n",
    "\n",
    "    print (\"response: \" + response)\n",
    "\n",
    "    Next_Action = input(\"Will you like to ask another question or quit? [input Ask or Quit]\")\n",
    "\n",
    "    if Next_Action == \"Ask\":\n",
    "         Magic_8_ball()\n",
    "\n",
    "    else:\n",
    "         print(\"Thank you for playing\")"
   ]
  },
  {
   "cell_type": "code",
   "execution_count": 2,
   "metadata": {},
   "outputs": [
    {
     "name": "stdout",
     "output_type": "stream",
     "text": [
      "Ask your question: Should I go home?\n",
      "response: Ask again later\n",
      "Will you like to ask another question or quit? [input Ask or Quit]Ask\n",
      "Ask your question: Can I stay back?\n",
      "response: It is decidedly so\n",
      "Will you like to ask another question or quit? [input Ask or Quit]Quit\n",
      "Thank you for playing\n"
     ]
    }
   ],
   "source": [
    "Magic_8_ball()"
   ]
  },
  {
   "cell_type": "code",
   "execution_count": null,
   "metadata": {},
   "outputs": [],
   "source": []
  }
 ],
 "metadata": {
  "kernelspec": {
   "display_name": "Python 3",
   "language": "python",
   "name": "python3"
  },
  "language_info": {
   "codemirror_mode": {
    "name": "ipython",
    "version": 3
   },
   "file_extension": ".py",
   "mimetype": "text/x-python",
   "name": "python",
   "nbconvert_exporter": "python",
   "pygments_lexer": "ipython3",
   "version": "3.7.6"
  }
 },
 "nbformat": 4,
 "nbformat_minor": 4
}

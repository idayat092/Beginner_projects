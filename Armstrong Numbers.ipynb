{
 "cells": [
  {
   "cell_type": "code",
   "execution_count": 1,
   "metadata": {},
   "outputs": [],
   "source": [
    "def Armstrong_number(x):\n",
    "    '''\n",
    "    Defines a function that allows the user to check whether a given number is armstrong number or not.\n",
    "    To do this, first determine the number of digits of the given number. Call that n. \n",
    "    Then take every digit in the number and raise it to the nth power. \n",
    "    Add them, and if your answer is the original number then it is an Armstrong number.\n",
    "    Example: Take 1634. Four digits. So, 1^4 + 6^4 + 3^4 + 4^4 = 1 + 1296 + 81 + 256 = 1634. So 1634 is an Armstrong number.\n",
    "    Tip: All single digit numbers are Armstrong numbers\n",
    "    '''\n",
    "    x = str(x) #converting the input number to string, so as to use the len function.\n",
    "    if len(x) == 1:\n",
    "        print (\"This number: {} is an Armstrong number\".format(x))\n",
    "    else:\n",
    "        y = 0\n",
    "        for i in range(len(x)):\n",
    "            y += (int(x[i])**len(x))\n",
    "        if str(y) == x:\n",
    "            print (\"This number: {} is an Armstrong number\".format(x))\n",
    "        else:\n",
    "            print (\"This number: {} is not an Armstrong number\".format(x))"
   ]
  },
  {
   "cell_type": "code",
   "execution_count": 2,
   "metadata": {},
   "outputs": [
    {
     "name": "stdout",
     "output_type": "stream",
     "text": [
      "This number: 1 is an Armstrong number\n"
     ]
    }
   ],
   "source": [
    "Armstrong_number(1)"
   ]
  },
  {
   "cell_type": "code",
   "execution_count": 3,
   "metadata": {},
   "outputs": [
    {
     "name": "stdout",
     "output_type": "stream",
     "text": [
      "This number: 23 is not an Armstrong number\n"
     ]
    }
   ],
   "source": [
    "Armstrong_number(23)"
   ]
  },
  {
   "cell_type": "code",
   "execution_count": 4,
   "metadata": {},
   "outputs": [
    {
     "name": "stdout",
     "output_type": "stream",
     "text": [
      "This number: 1634 is an Armstrong number\n"
     ]
    }
   ],
   "source": [
    "Armstrong_number(1634)"
   ]
  },
  {
   "cell_type": "code",
   "execution_count": null,
   "metadata": {},
   "outputs": [],
   "source": []
  }
 ],
 "metadata": {
  "kernelspec": {
   "display_name": "Python 3",
   "language": "python",
   "name": "python3"
  },
  "language_info": {
   "codemirror_mode": {
    "name": "ipython",
    "version": 3
   },
   "file_extension": ".py",
   "mimetype": "text/x-python",
   "name": "python",
   "nbconvert_exporter": "python",
   "pygments_lexer": "ipython3",
   "version": "3.7.6"
  }
 },
 "nbformat": 4,
 "nbformat_minor": 4
}
